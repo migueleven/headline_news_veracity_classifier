{
 "cells": [
  {
   "cell_type": "markdown",
   "id": "e76ad77d-78fa-444c-85d0-03b23dbbd4d3",
   "metadata": {},
   "source": [
    "# Importing libraries"
   ]
  },
  {
   "cell_type": "code",
   "execution_count": 2,
   "id": "1734449c-aad3-413e-ae75-190b180ca9bf",
   "metadata": {},
   "outputs": [],
   "source": [
    "import pandas as pd\n",
    "import numpy as np"
   ]
  },
  {
   "cell_type": "markdown",
   "id": "f62155ed-883c-44ab-bb2a-080e1b094ffe",
   "metadata": {},
   "source": [
    "# Loading Data"
   ]
  },
  {
   "cell_type": "code",
   "execution_count": 4,
   "id": "bccc6042-4362-4d38-90c3-ecd8abb331ef",
   "metadata": {},
   "outputs": [
    {
     "name": "stdout",
     "output_type": "stream",
     "text": [
      "Data load correctly!\n"
     ]
    }
   ],
   "source": [
    "df = pd.read_csv('../data/data.csv', sep='\\t')\n",
    "print(\"Data load correctly!\")"
   ]
  },
  {
   "cell_type": "markdown",
   "id": "6da3a689-bbf2-41bc-9e54-ff577475643a",
   "metadata": {},
   "source": [
    "# Data Inspection"
   ]
  },
  {
   "cell_type": "code",
   "execution_count": 6,
   "id": "089e9c17-049f-4788-ba1e-f83d571b5d6b",
   "metadata": {},
   "outputs": [
    {
     "name": "stdout",
     "output_type": "stream",
     "text": [
      "<class 'pandas.core.frame.DataFrame'>\n",
      "RangeIndex: 34151 entries, 0 to 34150\n",
      "Data columns (total 2 columns):\n",
      " #   Column                                                                          Non-Null Count  Dtype \n",
      "---  ------                                                                          --------------  ----- \n",
      " 0   0                                                                               34151 non-null  int64 \n",
      " 1   donald trump sends out embarrassing new year‚s eve message; this is disturbing  34151 non-null  object\n",
      "dtypes: int64(1), object(1)\n",
      "memory usage: 533.7+ KB\n"
     ]
    }
   ],
   "source": [
    "df.info()"
   ]
  },
  {
   "cell_type": "code",
   "execution_count": 7,
   "id": "62ff7f93-8c24-4d7f-956d-61c0ee8b2d1f",
   "metadata": {},
   "outputs": [
    {
     "data": {
      "text/html": [
       "<div>\n",
       "<style scoped>\n",
       "    .dataframe tbody tr th:only-of-type {\n",
       "        vertical-align: middle;\n",
       "    }\n",
       "\n",
       "    .dataframe tbody tr th {\n",
       "        vertical-align: top;\n",
       "    }\n",
       "\n",
       "    .dataframe thead th {\n",
       "        text-align: right;\n",
       "    }\n",
       "</style>\n",
       "<table border=\"1\" class=\"dataframe\">\n",
       "  <thead>\n",
       "    <tr style=\"text-align: right;\">\n",
       "      <th></th>\n",
       "      <th>0</th>\n",
       "      <th>donald trump sends out embarrassing new year‚s eve message; this is disturbing</th>\n",
       "    </tr>\n",
       "  </thead>\n",
       "  <tbody>\n",
       "    <tr>\n",
       "      <th>0</th>\n",
       "      <td>0</td>\n",
       "      <td>drunk bragging trump staffer started russian c...</td>\n",
       "    </tr>\n",
       "    <tr>\n",
       "      <th>1</th>\n",
       "      <td>0</td>\n",
       "      <td>sheriff david clarke becomes an internet joke ...</td>\n",
       "    </tr>\n",
       "    <tr>\n",
       "      <th>2</th>\n",
       "      <td>0</td>\n",
       "      <td>trump is so obsessed he even has obama‚s name ...</td>\n",
       "    </tr>\n",
       "    <tr>\n",
       "      <th>3</th>\n",
       "      <td>0</td>\n",
       "      <td>pope francis just called out donald trump duri...</td>\n",
       "    </tr>\n",
       "    <tr>\n",
       "      <th>4</th>\n",
       "      <td>0</td>\n",
       "      <td>racist alabama cops brutalize black boy while ...</td>\n",
       "    </tr>\n",
       "  </tbody>\n",
       "</table>\n",
       "</div>"
      ],
      "text/plain": [
       "   0  \\\n",
       "0  0   \n",
       "1  0   \n",
       "2  0   \n",
       "3  0   \n",
       "4  0   \n",
       "\n",
       "  donald trump sends out embarrassing new year‚s eve message; this is disturbing  \n",
       "0  drunk bragging trump staffer started russian c...                              \n",
       "1  sheriff david clarke becomes an internet joke ...                              \n",
       "2  trump is so obsessed he even has obama‚s name ...                              \n",
       "3  pope francis just called out donald trump duri...                              \n",
       "4  racist alabama cops brutalize black boy while ...                              "
      ]
     },
     "execution_count": 7,
     "metadata": {},
     "output_type": "execute_result"
    }
   ],
   "source": [
    "df.head()"
   ]
  },
  {
   "cell_type": "code",
   "execution_count": 8,
   "id": "add83903-d9f8-4550-be16-2163bd3e4b8c",
   "metadata": {},
   "outputs": [
    {
     "data": {
      "text/plain": [
       "0\n",
       "0    17571\n",
       "1    16580\n",
       "Name: count, dtype: int64"
      ]
     },
     "execution_count": 8,
     "metadata": {},
     "output_type": "execute_result"
    }
   ],
   "source": [
    "df['0'].value_counts()"
   ]
  },
  {
   "cell_type": "markdown",
   "id": "8bdf7691-c998-4e62-903b-7f40367cebe9",
   "metadata": {},
   "source": [
    "## Check duplicates and null values"
   ]
  },
  {
   "cell_type": "code",
   "execution_count": 10,
   "id": "5b6567c5-0e8a-4c4e-998d-99866859a0e5",
   "metadata": {},
   "outputs": [
    {
     "name": "stdout",
     "output_type": "stream",
     "text": [
      "Total of null rows:\n",
      " 0                                                                                 0\n",
      "donald trump sends out embarrassing new year‚s eve message; this is disturbing    0\n",
      "dtype: int64\n"
     ]
    }
   ],
   "source": [
    "print(\"Total of null rows:\\n\", df.isna().sum())"
   ]
  },
  {
   "cell_type": "code",
   "execution_count": 11,
   "id": "1066cf00-fdb4-432b-a60c-cadea8dcc487",
   "metadata": {},
   "outputs": [
    {
     "name": "stdout",
     "output_type": "stream",
     "text": [
      "Total of duplciated rows: 1946\n"
     ]
    }
   ],
   "source": [
    "print(\"Total of duplciated rows:\",df.duplicated().sum())\n",
    "df.drop_duplicates(inplace=True)"
   ]
  },
  {
   "cell_type": "markdown",
   "id": "7ce2544e-3cb5-4cdc-a1d3-691b25359c80",
   "metadata": {},
   "source": [
    "# Cleaning Data"
   ]
  },
  {
   "cell_type": "code",
   "execution_count": 13,
   "id": "54cb5107-6105-4f3f-98a7-b6671861da05",
   "metadata": {},
   "outputs": [
    {
     "name": "stderr",
     "output_type": "stream",
     "text": [
      "C:\\Users\\Bootcamp\\AppData\\Local\\Temp\\ipykernel_27260\\1592399653.py:10: FutureWarning: Setting an item of incompatible dtype is deprecated and will raise an error in a future version of pandas. Value '0' has dtype incompatible with int64, please explicitly cast to a compatible dtype first.\n",
      "  df.loc[len(df)] = new_row\n"
     ]
    },
    {
     "data": {
      "text/html": [
       "<div>\n",
       "<style scoped>\n",
       "    .dataframe tbody tr th:only-of-type {\n",
       "        vertical-align: middle;\n",
       "    }\n",
       "\n",
       "    .dataframe tbody tr th {\n",
       "        vertical-align: top;\n",
       "    }\n",
       "\n",
       "    .dataframe thead th {\n",
       "        text-align: right;\n",
       "    }\n",
       "</style>\n",
       "<table border=\"1\" class=\"dataframe\">\n",
       "  <thead>\n",
       "    <tr style=\"text-align: right;\">\n",
       "      <th></th>\n",
       "      <th>0</th>\n",
       "      <th>donald trump sends out embarrassing new year‚s eve message; this is disturbing</th>\n",
       "    </tr>\n",
       "  </thead>\n",
       "  <tbody>\n",
       "    <tr>\n",
       "      <th>34146</th>\n",
       "      <td>1</td>\n",
       "      <td>tears in rain as thais gather for late king's ...</td>\n",
       "    </tr>\n",
       "    <tr>\n",
       "      <th>34147</th>\n",
       "      <td>1</td>\n",
       "      <td>pyongyang university needs non-u.s. teachers a...</td>\n",
       "    </tr>\n",
       "    <tr>\n",
       "      <th>34148</th>\n",
       "      <td>1</td>\n",
       "      <td>philippine president duterte to visit japan ah...</td>\n",
       "    </tr>\n",
       "    <tr>\n",
       "      <th>34149</th>\n",
       "      <td>1</td>\n",
       "      <td>japan's abe may have won election\\tbut many do...</td>\n",
       "    </tr>\n",
       "    <tr>\n",
       "      <th>34150</th>\n",
       "      <td>1</td>\n",
       "      <td>demoralized and divided: inside catalonia's po...</td>\n",
       "    </tr>\n",
       "  </tbody>\n",
       "</table>\n",
       "</div>"
      ],
      "text/plain": [
       "       0  \\\n",
       "34146  1   \n",
       "34147  1   \n",
       "34148  1   \n",
       "34149  1   \n",
       "34150  1   \n",
       "\n",
       "      donald trump sends out embarrassing new year‚s eve message; this is disturbing  \n",
       "34146  tears in rain as thais gather for late king's ...                              \n",
       "34147  pyongyang university needs non-u.s. teachers a...                              \n",
       "34148  philippine president duterte to visit japan ah...                              \n",
       "34149  japan's abe may have won election\\tbut many do...                              \n",
       "34150  demoralized and divided: inside catalonia's po...                              "
      ]
     },
     "execution_count": 13,
     "metadata": {},
     "output_type": "execute_result"
    }
   ],
   "source": [
    "# Set columns names as first row since is bad\n",
    "\n",
    "# Get columns names\n",
    "column_names = list(df.columns)\n",
    "\n",
    "# Create new row with the names\n",
    "new_row = {column_names[0]: column_names[0], column_names[1]: column_names[1]}\n",
    "\n",
    "# Added as last row\n",
    "df.loc[len(df)] = new_row\n",
    "\n",
    "# Checking\n",
    "df.tail()"
   ]
  },
  {
   "cell_type": "code",
   "execution_count": 14,
   "id": "6810d937-d1bf-4c42-a0d0-76100753809c",
   "metadata": {},
   "outputs": [
    {
     "data": {
      "text/plain": [
       "Index(['Veracity', 'News'], dtype='object')"
      ]
     },
     "execution_count": 14,
     "metadata": {},
     "output_type": "execute_result"
    }
   ],
   "source": [
    "# Change names of columns to better understanding\n",
    "df = df.rename(columns={column_names[0]:'Veracity', column_names[1]:'News'})\n",
    "\n",
    "#Checking\n",
    "df.columns"
   ]
  },
  {
   "cell_type": "markdown",
   "id": "396641bb-415a-4adf-8378-bc6bf5f63c72",
   "metadata": {},
   "source": [
    "# Train test split"
   ]
  },
  {
   "cell_type": "markdown",
   "id": "ca7ec5ca-9c8e-42cb-a61e-4de39ce11d45",
   "metadata": {},
   "source": [
    "We'll divide our train data in 80/20 for create a test dataset and do supervised learning, we'll try to mantain the same size of data"
   ]
  },
  {
   "cell_type": "code",
   "execution_count": 17,
   "id": "c3829957-5e3d-471b-8cf9-73e8f60abe4b",
   "metadata": {},
   "outputs": [
    {
     "data": {
      "text/html": [
       "<div>\n",
       "<style scoped>\n",
       "    .dataframe tbody tr th:only-of-type {\n",
       "        vertical-align: middle;\n",
       "    }\n",
       "\n",
       "    .dataframe tbody tr th {\n",
       "        vertical-align: top;\n",
       "    }\n",
       "\n",
       "    .dataframe thead th {\n",
       "        text-align: right;\n",
       "    }\n",
       "</style>\n",
       "<table border=\"1\" class=\"dataframe\">\n",
       "  <thead>\n",
       "    <tr style=\"text-align: right;\">\n",
       "      <th></th>\n",
       "      <th>Veracity</th>\n",
       "      <th>News</th>\n",
       "    </tr>\n",
       "  </thead>\n",
       "  <tbody>\n",
       "    <tr>\n",
       "      <th>0</th>\n",
       "      <td>1</td>\n",
       "      <td>kenyan opposition says a strategist arrested\\t...</td>\n",
       "    </tr>\n",
       "    <tr>\n",
       "      <th>1</th>\n",
       "      <td>1</td>\n",
       "      <td>republican\\tdemocratic senators seek answers i...</td>\n",
       "    </tr>\n",
       "    <tr>\n",
       "      <th>2</th>\n",
       "      <td>0</td>\n",
       "      <td>awesome: trump tweets the two rules that will ...</td>\n",
       "    </tr>\n",
       "    <tr>\n",
       "      <th>3</th>\n",
       "      <td>1</td>\n",
       "      <td>u.s. representative levin says he will not run...</td>\n",
       "    </tr>\n",
       "    <tr>\n",
       "      <th>4</th>\n",
       "      <td>0</td>\n",
       "      <td>the exact same texas lawmakers that voted agai...</td>\n",
       "    </tr>\n",
       "  </tbody>\n",
       "</table>\n",
       "</div>"
      ],
      "text/plain": [
       "  Veracity                                               News\n",
       "0        1  kenyan opposition says a strategist arrested\\t...\n",
       "1        1  republican\\tdemocratic senators seek answers i...\n",
       "2        0  awesome: trump tweets the two rules that will ...\n",
       "3        1  u.s. representative levin says he will not run...\n",
       "4        0  the exact same texas lawmakers that voted agai..."
      ]
     },
     "execution_count": 17,
     "metadata": {},
     "output_type": "execute_result"
    }
   ],
   "source": [
    "# First we need to know how many it's 20% of our data\n",
    "real_news_20_percent = int(df['Veracity'].value_counts()[1]*0.2)\n",
    "fake_news_20_percent = int(df['Veracity'].value_counts()[0]*0.2)\n",
    "\n",
    "# Get randoms sample and removing it from original dataset\n",
    "real_test_sample = df[df['Veracity'] == 1].sample(real_news_20_percent)\n",
    "fake_test_sample = df[df['Veracity'] == 0].sample(fake_news_20_percent)\n",
    "\n",
    "df = df.drop(real_test_sample.index)\n",
    "df = df.drop(fake_test_sample.index)\n",
    "\n",
    "test_data = pd.concat([real_test_sample, fake_test_sample], ignore_index=True)\n",
    "\n",
    "# shuffle the DataFrame rows\n",
    "test_data = test_data.sample(frac = 1)\n",
    "\n",
    "# Reset indexes\n",
    "test_data = test_data.reset_index(drop=True)\n",
    "\n",
    "# Shows new test dataframe\n",
    "test_data.head()"
   ]
  },
  {
   "cell_type": "markdown",
   "id": "225adb30-be6e-4b2e-aeb9-a0d14cfb5628",
   "metadata": {},
   "source": [
    "# Save new test dataset"
   ]
  },
  {
   "cell_type": "code",
   "execution_count": 31,
   "id": "a377218d-b4b8-4eae-bf64-232bf7657ecd",
   "metadata": {},
   "outputs": [],
   "source": [
    "test_data.to_csv('../data/test_data.csv', index=False)\n",
    "df.to_csv('../data/train_data.csv', index=False)\n",
    "\n",
    "print(\"Data saved successfully!\")"
   ]
  }
 ],
 "metadata": {
  "kernelspec": {
   "display_name": "Python 3 (ipykernel)",
   "language": "python",
   "name": "python3"
  },
  "language_info": {
   "codemirror_mode": {
    "name": "ipython",
    "version": 3
   },
   "file_extension": ".py",
   "mimetype": "text/x-python",
   "name": "python",
   "nbconvert_exporter": "python",
   "pygments_lexer": "ipython3",
   "version": "3.12.4"
  }
 },
 "nbformat": 4,
 "nbformat_minor": 5
}
