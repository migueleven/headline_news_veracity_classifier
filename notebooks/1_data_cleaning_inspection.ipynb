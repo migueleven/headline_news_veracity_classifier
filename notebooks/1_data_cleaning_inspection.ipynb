{
 "cells": [
  {
   "cell_type": "markdown",
   "id": "e76ad77d-78fa-444c-85d0-03b23dbbd4d3",
   "metadata": {},
   "source": [
    "# Importing libraries"
   ]
  },
  {
   "cell_type": "code",
   "execution_count": 163,
   "id": "1734449c-aad3-413e-ae75-190b180ca9bf",
   "metadata": {},
   "outputs": [],
   "source": [
    "import pandas as pd\n",
    "import numpy as np"
   ]
  },
  {
   "cell_type": "markdown",
   "id": "f62155ed-883c-44ab-bb2a-080e1b094ffe",
   "metadata": {},
   "source": [
    "# Loading Data"
   ]
  },
  {
   "cell_type": "code",
   "execution_count": 164,
   "id": "bccc6042-4362-4d38-90c3-ecd8abb331ef",
   "metadata": {},
   "outputs": [
    {
     "name": "stdout",
     "output_type": "stream",
     "text": [
      "Data load correctly!\n"
     ]
    }
   ],
   "source": [
    "df = pd.read_csv('../data/data.csv', sep='\\t')\n",
    "print(\"Data load correctly!\")"
   ]
  },
  {
   "cell_type": "markdown",
   "id": "6da3a689-bbf2-41bc-9e54-ff577475643a",
   "metadata": {},
   "source": [
    "# Data Inspection"
   ]
  },
  {
   "cell_type": "code",
   "execution_count": 165,
   "id": "089e9c17-049f-4788-ba1e-f83d571b5d6b",
   "metadata": {},
   "outputs": [
    {
     "name": "stdout",
     "output_type": "stream",
     "text": [
      "<class 'pandas.core.frame.DataFrame'>\n",
      "RangeIndex: 34151 entries, 0 to 34150\n",
      "Data columns (total 2 columns):\n",
      " #   Column                                                                          Non-Null Count  Dtype \n",
      "---  ------                                                                          --------------  ----- \n",
      " 0   0                                                                               34151 non-null  int64 \n",
      " 1   donald trump sends out embarrassing new year‚s eve message; this is disturbing  34151 non-null  object\n",
      "dtypes: int64(1), object(1)\n",
      "memory usage: 533.7+ KB\n"
     ]
    }
   ],
   "source": [
    "df.info()"
   ]
  },
  {
   "cell_type": "code",
   "execution_count": 166,
   "id": "62ff7f93-8c24-4d7f-956d-61c0ee8b2d1f",
   "metadata": {},
   "outputs": [
    {
     "data": {
      "text/html": [
       "<div>\n",
       "<style scoped>\n",
       "    .dataframe tbody tr th:only-of-type {\n",
       "        vertical-align: middle;\n",
       "    }\n",
       "\n",
       "    .dataframe tbody tr th {\n",
       "        vertical-align: top;\n",
       "    }\n",
       "\n",
       "    .dataframe thead th {\n",
       "        text-align: right;\n",
       "    }\n",
       "</style>\n",
       "<table border=\"1\" class=\"dataframe\">\n",
       "  <thead>\n",
       "    <tr style=\"text-align: right;\">\n",
       "      <th></th>\n",
       "      <th>0</th>\n",
       "      <th>donald trump sends out embarrassing new year‚s eve message; this is disturbing</th>\n",
       "    </tr>\n",
       "  </thead>\n",
       "  <tbody>\n",
       "    <tr>\n",
       "      <th>0</th>\n",
       "      <td>0</td>\n",
       "      <td>drunk bragging trump staffer started russian c...</td>\n",
       "    </tr>\n",
       "    <tr>\n",
       "      <th>1</th>\n",
       "      <td>0</td>\n",
       "      <td>sheriff david clarke becomes an internet joke ...</td>\n",
       "    </tr>\n",
       "    <tr>\n",
       "      <th>2</th>\n",
       "      <td>0</td>\n",
       "      <td>trump is so obsessed he even has obama‚s name ...</td>\n",
       "    </tr>\n",
       "    <tr>\n",
       "      <th>3</th>\n",
       "      <td>0</td>\n",
       "      <td>pope francis just called out donald trump duri...</td>\n",
       "    </tr>\n",
       "    <tr>\n",
       "      <th>4</th>\n",
       "      <td>0</td>\n",
       "      <td>racist alabama cops brutalize black boy while ...</td>\n",
       "    </tr>\n",
       "  </tbody>\n",
       "</table>\n",
       "</div>"
      ],
      "text/plain": [
       "   0  \\\n",
       "0  0   \n",
       "1  0   \n",
       "2  0   \n",
       "3  0   \n",
       "4  0   \n",
       "\n",
       "  donald trump sends out embarrassing new year‚s eve message; this is disturbing  \n",
       "0  drunk bragging trump staffer started russian c...                              \n",
       "1  sheriff david clarke becomes an internet joke ...                              \n",
       "2  trump is so obsessed he even has obama‚s name ...                              \n",
       "3  pope francis just called out donald trump duri...                              \n",
       "4  racist alabama cops brutalize black boy while ...                              "
      ]
     },
     "execution_count": 166,
     "metadata": {},
     "output_type": "execute_result"
    }
   ],
   "source": [
    "df.head()"
   ]
  },
  {
   "cell_type": "code",
   "execution_count": 167,
   "id": "add83903-d9f8-4550-be16-2163bd3e4b8c",
   "metadata": {},
   "outputs": [
    {
     "data": {
      "text/plain": [
       "0\n",
       "0    17571\n",
       "1    16580\n",
       "Name: count, dtype: int64"
      ]
     },
     "execution_count": 167,
     "metadata": {},
     "output_type": "execute_result"
    }
   ],
   "source": [
    "df['0'].value_counts()"
   ]
  },
  {
   "cell_type": "markdown",
   "id": "8bdf7691-c998-4e62-903b-7f40367cebe9",
   "metadata": {},
   "source": [
    "## Check duplicates and null values"
   ]
  },
  {
   "cell_type": "code",
   "execution_count": 168,
   "id": "5b6567c5-0e8a-4c4e-998d-99866859a0e5",
   "metadata": {},
   "outputs": [
    {
     "name": "stdout",
     "output_type": "stream",
     "text": [
      "Total of null rows:\n",
      " 0                                                                                 0\n",
      "donald trump sends out embarrassing new year‚s eve message; this is disturbing    0\n",
      "dtype: int64\n"
     ]
    }
   ],
   "source": [
    "print(\"Total of null rows:\\n\", df.isna().sum())"
   ]
  },
  {
   "cell_type": "code",
   "execution_count": 169,
   "id": "1066cf00-fdb4-432b-a60c-cadea8dcc487",
   "metadata": {},
   "outputs": [
    {
     "name": "stdout",
     "output_type": "stream",
     "text": [
      "Total of duplciated rows: 1946\n"
     ]
    },
    {
     "data": {
      "text/plain": [
       "0\n",
       "1    16181\n",
       "0    16024\n",
       "Name: count, dtype: int64"
      ]
     },
     "execution_count": 169,
     "metadata": {},
     "output_type": "execute_result"
    }
   ],
   "source": [
    "print(\"Total of duplciated rows:\",df.duplicated().sum())\n",
    "df.drop_duplicates(inplace=True)\n",
    "\n",
    "df['0'].value_counts()"
   ]
  },
  {
   "cell_type": "markdown",
   "id": "7ce2544e-3cb5-4cdc-a1d3-691b25359c80",
   "metadata": {},
   "source": [
    "# Cleaning Data"
   ]
  },
  {
   "cell_type": "code",
   "execution_count": 170,
   "id": "54cb5107-6105-4f3f-98a7-b6671861da05",
   "metadata": {},
   "outputs": [
    {
     "data": {
      "text/html": [
       "<div>\n",
       "<style scoped>\n",
       "    .dataframe tbody tr th:only-of-type {\n",
       "        vertical-align: middle;\n",
       "    }\n",
       "\n",
       "    .dataframe tbody tr th {\n",
       "        vertical-align: top;\n",
       "    }\n",
       "\n",
       "    .dataframe thead th {\n",
       "        text-align: right;\n",
       "    }\n",
       "</style>\n",
       "<table border=\"1\" class=\"dataframe\">\n",
       "  <thead>\n",
       "    <tr style=\"text-align: right;\">\n",
       "      <th></th>\n",
       "      <th>0</th>\n",
       "      <th>donald trump sends out embarrassing new year‚s eve message; this is disturbing</th>\n",
       "    </tr>\n",
       "  </thead>\n",
       "  <tbody>\n",
       "    <tr>\n",
       "      <th>32205</th>\n",
       "      <td>0</td>\n",
       "      <td>donald trump sends out embarrassing new year‚s...</td>\n",
       "    </tr>\n",
       "  </tbody>\n",
       "</table>\n",
       "</div>"
      ],
      "text/plain": [
       "       0  \\\n",
       "32205  0   \n",
       "\n",
       "      donald trump sends out embarrassing new year‚s eve message; this is disturbing  \n",
       "32205  donald trump sends out embarrassing new year‚s...                              "
      ]
     },
     "execution_count": 170,
     "metadata": {},
     "output_type": "execute_result"
    }
   ],
   "source": [
    "import pandas as pd\n",
    "\n",
    "# Obtener los nombres de las columnas\n",
    "column_names = list(df.columns)\n",
    "\n",
    "# Crear un nuevo renglón con los nombres de las columnas\n",
    "new_row = {column_names[0]: column_names[0], column_names[1]: column_names[1]}\n",
    "\n",
    "# Convertir el renglón a un DataFrame y concatenarlo\n",
    "df = pd.concat([df, pd.DataFrame([new_row])], ignore_index=True)\n",
    "\n",
    "# Verificar\n",
    "df.tail(1)"
   ]
  },
  {
   "cell_type": "code",
   "execution_count": 171,
   "id": "6810d937-d1bf-4c42-a0d0-76100753809c",
   "metadata": {},
   "outputs": [
    {
     "data": {
      "text/plain": [
       "Index(['veracity', 'news'], dtype='object')"
      ]
     },
     "execution_count": 171,
     "metadata": {},
     "output_type": "execute_result"
    }
   ],
   "source": [
    "# Change names of columns to better understanding\n",
    "df = df.rename(columns={column_names[0]:'veracity', column_names[1]:'news'})\n",
    "\n",
    "#Checking\n",
    "df.columns"
   ]
  },
  {
   "cell_type": "markdown",
   "id": "396641bb-415a-4adf-8378-bc6bf5f63c72",
   "metadata": {},
   "source": [
    "# Train test split"
   ]
  },
  {
   "cell_type": "markdown",
   "id": "ca7ec5ca-9c8e-42cb-a61e-4de39ce11d45",
   "metadata": {},
   "source": [
    "We'll divide our train data in 80/20 for create a test dataset and do supervised learning, we'll try to mantain the same size of data"
   ]
  },
  {
   "cell_type": "code",
   "execution_count": 175,
   "id": "c3829957-5e3d-471b-8cf9-73e8f60abe4b",
   "metadata": {},
   "outputs": [
    {
     "name": "stdout",
     "output_type": "stream",
     "text": [
      "<class 'pandas.core.frame.DataFrame'>\n",
      "RangeIndex: 4122 entries, 0 to 4121\n",
      "Data columns (total 2 columns):\n",
      " #   Column    Non-Null Count  Dtype \n",
      "---  ------    --------------  ----- \n",
      " 0   veracity  4122 non-null   object\n",
      " 1   news      4122 non-null   object\n",
      "dtypes: object(2)\n",
      "memory usage: 64.5+ KB\n",
      "None\n",
      "\n",
      "\n",
      "veracity\n",
      "1    2071\n",
      "0    2051\n",
      "Name: count, dtype: int64\n",
      "\n",
      "\n",
      "\n",
      "<class 'pandas.core.frame.DataFrame'>\n",
      "Index: 16491 entries, 0 to 32205\n",
      "Data columns (total 2 columns):\n",
      " #   Column    Non-Null Count  Dtype \n",
      "---  ------    --------------  ----- \n",
      " 0   veracity  16491 non-null  object\n",
      " 1   news      16491 non-null  object\n",
      "dtypes: object(2)\n",
      "memory usage: 386.5+ KB\n",
      "None\n",
      "\n",
      "\n",
      "veracity\n",
      "1    8285\n",
      "0    8205\n",
      "0       1\n",
      "Name: count, dtype: int64\n"
     ]
    }
   ],
   "source": [
    "# First we need to know how many it's 20% of our data\n",
    "real_news_20_percent = int(df['veracity'].value_counts()[1]*0.2)\n",
    "fake_news_20_percent = int(df['veracity'].value_counts()[0]*0.2)\n",
    "\n",
    "# Get randoms sample and removing it from original dataset\n",
    "real_test_sample = df[df['veracity'] == 1].sample(real_news_20_percent)\n",
    "fake_test_sample = df[df['veracity'] == 0].sample(fake_news_20_percent)\n",
    "\n",
    "df = df.drop(real_test_sample.index)\n",
    "df = df.drop(fake_test_sample.index)\n",
    "\n",
    "test_data = pd.concat([real_test_sample, fake_test_sample], ignore_index=True)\n",
    "\n",
    "# shuffle the DataFrame rows\n",
    "test_data = test_data.sample(frac = 1)\n",
    "\n",
    "# Reset indexes\n",
    "test_data = test_data.reset_index(drop=True)\n",
    "\n",
    "# Shows new test dataframe\n",
    "print(test_data.info())\n",
    "print(\"\\n\")\n",
    "print(test_data['veracity'].value_counts())\n",
    "print(\"\\n\\n\")\n",
    "print(df.info())\n",
    "print(\"\\n\")\n",
    "print(df['veracity'].value_counts())"
   ]
  },
  {
   "cell_type": "markdown",
   "id": "225adb30-be6e-4b2e-aeb9-a0d14cfb5628",
   "metadata": {},
   "source": [
    "# Save new test dataset"
   ]
  },
  {
   "cell_type": "code",
   "execution_count": 173,
   "id": "a377218d-b4b8-4eae-bf64-232bf7657ecd",
   "metadata": {},
   "outputs": [
    {
     "name": "stdout",
     "output_type": "stream",
     "text": [
      "Data saved successfully!\n"
     ]
    }
   ],
   "source": [
    "test_data.to_csv('../data/test_data.csv', index=False)\n",
    "df.to_csv('../data/train_data.csv', index=False)\n",
    "\n",
    "print(\"Data saved successfully!\")"
   ]
  }
 ],
 "metadata": {
  "kernelspec": {
   "display_name": "Python 3 (ipykernel)",
   "language": "python",
   "name": "python3"
  },
  "language_info": {
   "codemirror_mode": {
    "name": "ipython",
    "version": 3
   },
   "file_extension": ".py",
   "mimetype": "text/x-python",
   "name": "python",
   "nbconvert_exporter": "python",
   "pygments_lexer": "ipython3",
   "version": "3.10.16"
  }
 },
 "nbformat": 4,
 "nbformat_minor": 5
}
